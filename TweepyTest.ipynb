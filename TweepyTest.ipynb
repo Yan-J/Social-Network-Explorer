{
 "cells": [
  {
   "cell_type": "code",
   "execution_count": 15,
   "metadata": {
    "collapsed": false
   },
   "outputs": [],
   "source": [
    "#----------------------Get info from Twitter through Tweepy----------------------#\n",
    "import tweepy\n",
    "\n",
    "#Create variables for each key, secret, token.\n",
    "consumer_key = 'hrABYWoeNcdDgyMYUPqlcITNi'\n",
    "consumer_secret = '8KkiJEgeJySQ8ZFDA2ywHPx2cagifHqiXS7jxcsCWDtLPGV59K'\n",
    "access_token = '838796084038230016-L8xC5JUjkDxUvfNJR4iZACE5QIKlXMG'\n",
    "access_token_secret = 'jhQC3kWgc8SbkmlMnJ5965UDddeV61EbGbqcUnfzI3DuQ'\n",
    "\n",
    "#Set up OAuth and integrate with API.\n",
    "auth = tweepy.OAuthHandler(consumer_key, consumer_secret)\n",
    "auth.set_access_token(access_token, access_token_secret)\n",
    "api = tweepy.API(auth)"
   ]
  },
  {
   "cell_type": "code",
   "execution_count": 46,
   "metadata": {
    "collapsed": false
   },
   "outputs": [],
   "source": [
    "def get_tweets(keyword):\n",
    "    twt_list = []\n",
    "    twt_list = api.search(q = keyword, count = 20, result_type = \"mixed\")\n",
    "    #print(twt_list[0].text)\n",
    "    return twt_list"
   ]
  },
  {
   "cell_type": "code",
   "execution_count": null,
   "metadata": {
    "collapsed": false
   },
   "outputs": [
    {
     "name": "stderr",
     "output_type": "stream",
     "text": [
      " * Running on http://localhost:9000/ (Press CTRL+C to quit)\n",
      "127.0.0.1 - - [13/Mar/2017 05:22:32] \"GET /twts/selenagomez/ HTTP/1.1\" 200 -\n"
     ]
    }
   ],
   "source": [
    "from werkzeug.wrappers import Request, Response\n",
    "from flask import Flask\n",
    "from flask import render_template\n",
    "\n",
    "app = Flask(__name__)\n",
    "\n",
    "@app.route(\"/twts/\")\n",
    "@app.route(\"/twts/<name>/\")\n",
    "def twts(name = None):\n",
    "    i = 0\n",
    "    twt_list = get_tweets(name)\n",
    "    return render_template('twt.html', twt_list=twt_list)\n",
    "\n",
    "\n",
    "if __name__ == '__main__':\n",
    "    from werkzeug.serving import run_simple\n",
    "    run_simple('localhost', 9000, app)"
   ]
  },
  {
   "cell_type": "code",
   "execution_count": null,
   "metadata": {
    "collapsed": true
   },
   "outputs": [],
   "source": []
  }
 ],
 "metadata": {
  "anaconda-cloud": {},
  "kernelspec": {
   "display_name": "Python 2",
   "language": "python",
   "name": "python2"
  },
  "language_info": {
   "codemirror_mode": {
    "name": "ipython",
    "version": 2
   },
   "file_extension": ".py",
   "mimetype": "text/x-python",
   "name": "python",
   "nbconvert_exporter": "python",
   "pygments_lexer": "ipython2",
   "version": "2.7.12"
  }
 },
 "nbformat": 4,
 "nbformat_minor": 1
}
