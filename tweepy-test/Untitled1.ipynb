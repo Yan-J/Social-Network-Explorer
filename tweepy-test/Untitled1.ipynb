{
 "cells": [
  {
   "cell_type": "code",
   "execution_count": 1,
   "metadata": {
    "collapsed": false
   },
   "outputs": [
    {
     "name": "stderr",
     "output_type": "stream",
     "text": [
      " * Running on http://127.0.0.1:5000/ (Press CTRL+C to quit)\n",
      " * Restarting with stat\n"
     ]
    },
    {
     "ename": "SystemExit",
     "evalue": "1",
     "output_type": "error",
     "traceback": [
      "An exception has occurred, use %tb to see the full traceback.\n",
      "\u001b[0;31mSystemExit\u001b[0m\u001b[0;31m:\u001b[0m 1\n"
     ]
    },
    {
     "name": "stderr",
     "output_type": "stream",
     "text": [
      "/Users/jiangcw/anaconda/lib/python2.7/site-packages/IPython/core/interactiveshell.py:2889: UserWarning: To exit: use 'exit', 'quit', or Ctrl-D.\n",
      "  warn(\"To exit: use 'exit', 'quit', or Ctrl-D.\", stacklevel=1)\n"
     ]
    }
   ],
   "source": [
    "from flask import Flask, abort, request, render_template\n",
    "from uuid import uuid4\n",
    "import requests\n",
    "import requests.auth\n",
    "import urllib\n",
    "import string\n",
    "import random\n",
    "\n",
    "SPOTIFY_APP_ID = 'b9d97275936943d6965ffbdd5e402238'\n",
    "SPOTIFY_REDIRECT_URI = 'http://localhost:5000/callback'\n",
    "SPOTIFY_CLIENT_SECRET = '8ac92255fb684073b02f61e38f96cc34'\n",
    "RANDOM_STATE = ''\n",
    "\n",
    "app = Flask(__name__)\n",
    "\n",
    "#----------------------Get info from Twitter through Tweepy----------------------#\n",
    "import tweepy\n",
    "\n",
    "#Create variables for each key, secret, token.\n",
    "consumer_key = 'hrABYWoeNcdDgyMYUPqlcITNi'\n",
    "consumer_secret = '8KkiJEgeJySQ8ZFDA2ywHPx2cagifHqiXS7jxcsCWDtLPGV59K'\n",
    "access_token = '838796084038230016-L8xC5JUjkDxUvfNJR4iZACE5QIKlXMG'\n",
    "access_token_secret = 'jhQC3kWgc8SbkmlMnJ5965UDddeV61EbGbqcUnfzI3DuQ'\n",
    "\n",
    "#Set up OAuth and integrate with API.\n",
    "auth = tweepy.OAuthHandler(consumer_key, consumer_secret)\n",
    "auth.set_access_token(access_token, access_token_secret)\n",
    "api = tweepy.API(auth)\n",
    "\n",
    "# Prompt login\n",
    "@app.route('/')\n",
    "def homepage():\n",
    "    text = '<a href=\"%s\">Authenticate with spotify</a>'\n",
    "    return render_template(\"index.html\", requestURL=make_authorization_url())\n",
    "\n",
    "# Create authorzation url\n",
    "def make_authorization_url():\n",
    "    global RANDOM_STATE\n",
    "    RANDOM_STATE = generateRandomString(16)\n",
    "    params = {\"client_id\": SPOTIFY_APP_ID,\n",
    "              \"response_type\": \"code\",\n",
    "              \"redirect_uri\": SPOTIFY_REDIRECT_URI,\n",
    "              \"state\": RANDOM_STATE,\n",
    "              \"scope\": \"user-top-read\"\n",
    "              }\n",
    "    url = \"https://accounts.spotify.com/authorize?\" + urllib.parse.urlencode(params)\n",
    "    return url\n",
    "\n",
    "# Callback page\n",
    "@app.route('/callback')\n",
    "def callback():\n",
    "    code = request.args.get('code')\n",
    "    state = request.args.get('state', '')\n",
    "    # Check state, get access token if valid\n",
    "    if state == RANDOM_STATE:\n",
    "        artists = []\n",
    "        token_json = get_token(code)\n",
    "        user_info = get_userInfo(token_json['access_token'])\n",
    "        artist_infoa = get_topArtist(token_json['access_token'])\n",
    "        artist_info = artist_infoa['items']\n",
    "        url_list = []\n",
    "        for item in artist_info:\n",
    "            print (item['name'])\n",
    "            url_list.append(urllib.parse.quote_plus(item['name']))\n",
    "\n",
    "        profile_img = user_info['images']\n",
    "        return render_template(\"profile.html\",user_json=user_info, profile_img=profile_img, artist_json=artist_info, atrist_url=url_list)\n",
    "    # invalid state, abort\n",
    "    else:\n",
    "        abort(403)\n",
    "        \n",
    "@app.route(\"/twts/\")\n",
    "@app.route(\"/twts/<name>/\")\n",
    "def twts(name = None):\n",
    "    twt_list = get_tweets(name)\n",
    "    return render_template('twt.html', twt_list=twt_list)\n",
    "\n",
    "# Use code to obtain access token, refresh token\n",
    "def get_token(code):\n",
    "    client_auth = requests.auth.HTTPBasicAuth(SPOTIFY_APP_ID, SPOTIFY_CLIENT_SECRET)\n",
    "    headers = {'Authorization': 'Basic '}\n",
    "    post_data = {\"grant_type\": \"authorization_code\",\n",
    "                 \"code\": code,\n",
    "                 \"redirect_uri\": SPOTIFY_REDIRECT_URI}\n",
    "    response = requests.post(\"https://accounts.spotify.com/api/token\",\n",
    "                             auth=client_auth,\n",
    "                             headers=headers,\n",
    "                             data=post_data)\n",
    "    token_json = response.json()\n",
    "    return token_json\n",
    "\n",
    "# Use access token to get user info\n",
    "def get_userInfo(access_token):\n",
    "    headers = {'Authorization': 'Bearer ' + access_token}\n",
    "    response = requests.get(\"https://api.spotify.com/v1/me\", headers=headers)\n",
    "    me_json = response.json()\n",
    "    return me_json\n",
    "\n",
    "def get_topArtist(access_token):\n",
    "    headers = {'Authorization': 'Bearer ' + access_token}\n",
    "    response = requests.get(\"https://api.spotify.com/v1/me/top/artists?limit=50&offset=0\", headers=headers)\n",
    "    artist_json = response.json()\n",
    "    return artist_json\n",
    "\n",
    "def generateRandomString(len):\n",
    "    return ''.join(random.SystemRandom().choice(string.ascii_uppercase + string.digits) for _ in range(len))\n",
    "\n",
    "def get_tweets(keyword):\n",
    "    twt_list = []\n",
    "    twt_list = api.search(q = keyword, count = 20)\n",
    "    return twt_list\n",
    "\n",
    "if __name__ == \"__main__\":\n",
    "    app.run(debug=True)\n"
   ]
  },
  {
   "cell_type": "code",
   "execution_count": null,
   "metadata": {
    "collapsed": true
   },
   "outputs": [],
   "source": []
  }
 ],
 "metadata": {
  "anaconda-cloud": {},
  "kernelspec": {
   "display_name": "Python 2",
   "language": "python",
   "name": "python2"
  },
  "language_info": {
   "codemirror_mode": {
    "name": "ipython",
    "version": 2
   },
   "file_extension": ".py",
   "mimetype": "text/x-python",
   "name": "python",
   "nbconvert_exporter": "python",
   "pygments_lexer": "ipython2",
   "version": "2.7.12"
  }
 },
 "nbformat": 4,
 "nbformat_minor": 1
}
