{
 "cells": [
  {
   "cell_type": "code",
   "execution_count": null,
   "metadata": {
    "collapsed": true
   },
   "outputs": [],
   "source": [
    "#----------------------Multiple python instance on Mac. Specify path first----------------------#\n",
    "%%bash\n",
    "export PATH=\"/Users/jiangcw/anaconda/bin:$PATH\"\n",
    "pip install tweepy"
   ]
  },
  {
   "cell_type": "code",
   "execution_count": 10,
   "metadata": {
    "collapsed": false
   },
   "outputs": [],
   "source": [
    "#----------------------Get info from Twitter through Tweepy----------------------#\n",
    "import tweepy\n",
    "\n",
    "#Create variables for each key, secret, token.\n",
    "consumer_key = 'hrABYWoeNcdDgyMYUPqlcITNi'\n",
    "consumer_secret = '8KkiJEgeJySQ8ZFDA2ywHPx2cagifHqiXS7jxcsCWDtLPGV59K'\n",
    "access_token = '838796084038230016-L8xC5JUjkDxUvfNJR4iZACE5QIKlXMG'\n",
    "access_token_secret = 'jhQC3kWgc8SbkmlMnJ5965UDddeV61EbGbqcUnfzI3DuQ'\n",
    "\n",
    "#Set up OAuth and integrate with API.\n",
    "auth = tweepy.OAuthHandler(consumer_key, consumer_secret)\n",
    "auth.set_access_token(access_token, access_token_secret)\n",
    "api = tweepy.API(auth)"
   ]
  },
  {
   "cell_type": "code",
   "execution_count": 47,
   "metadata": {
    "collapsed": false
   },
   "outputs": [
    {
     "name": "stdout",
     "output_type": "stream",
     "text": [
      "#TOdeals Here's why you should see School of Rock on Broadway: https://t.co/T9HzD4VA3K https://t.co/4eoZkmeKI3\n"
     ]
    }
   ],
   "source": [
    "#Get tweets on users home_timeline.\n",
    "public_tweets = api.home_timeline()\n",
    "\n",
    "print (public_tweets[0].text)\n",
    "tweetslist = []\n",
    "for tweet in public_tweets:\n",
    "    tweetslist.append(tweet.text)\n",
    "#print(tweetslist)"
   ]
  },
  {
   "cell_type": "code",
   "execution_count": 14,
   "metadata": {
    "collapsed": false
   },
   "outputs": [
    {
     "name": "stdout",
     "output_type": "stream",
     "text": [
      "Sharing to Learn 234 South Africa - New York\n",
      "ARTs East New York 544 851 Hegeman ave\n",
      "ANC New York 1436 New York City\n",
      "Alpha One Labs 5656 Brooklyn\n",
      "WNY Book Arts Center 1432 Buffalo New York\n",
      "roundtownsound 357 Philly\n",
      "Puppetry Arts 855 Park Slope, Brooklyn\n",
      "A.G.A.P.W. 764 NYC\n",
      "AnthonyMark 281 New York, New York\n",
      "All Team Manhattan 846 Harlem.USA \n",
      "Get Veterans Jobs 513 New York State\n",
      "\n",
      "\n",
      "Sharing to Learn 234\n",
      "ARTs East New York 544\n",
      "ANC New York 1436\n",
      "Alpha One Labs 5656\n",
      "WNY Book Arts Center 1432\n",
      "roundtownsound 357\n",
      "Puppetry Arts 855\n",
      "A.G.A.P.W. 764\n",
      "AnthonyMark 281\n",
      "All Team Manhattan 846\n",
      "Get Veterans Jobs 513\n"
     ]
    }
   ],
   "source": [
    "#Search for users.\n",
    "use_list = []\n",
    "for i in range(5):\n",
    "    user_list.append(api.search_users(\"new york + non profit\",20,i))\n",
    "\n",
    "\n",
    "\n",
    "user_list = api.search_users(\"new york + non profit\",20,1)\n",
    "for user in user_list:\n",
    "    print (user.name + \" \" + str(user.followers_count)+ \" \" + user.location)#Alias\n",
    "print (\"\\n\")\n",
    "user_list = api.search_users(\"new york + non profit\",20,2)\n",
    "for user in user_list:\n",
    "    print (user.name + \" \" + str(user.followers_count))#Alias"
   ]
  },
  {
   "cell_type": "code",
   "execution_count": 2,
   "metadata": {
    "collapsed": false
   },
   "outputs": [
    {
     "name": "stdout",
     "output_type": "stream",
     "text": [
      "10\n"
     ]
    }
   ],
   "source": [
    "#Search for users.\n",
    "user_list = []\n",
    "for i in range(10):\n",
    "    user_list.append(api.search_users(\"new york + non profit\",20,i))\n",
    "print(len(user_list))"
   ]
  },
  {
   "cell_type": "code",
   "execution_count": 90,
   "metadata": {
    "collapsed": false
   },
   "outputs": [
    {
     "name": "stdout",
     "output_type": "stream",
     "text": [
      "Status(contributors=None, truncated=False, text=u'Free: Distorted Divas - Mar 4 #newyorktickets https://t.co/AJQURWViYl', is_quote_status=False, in_reply_to_status_id=None, id=840679899182452736, favorite_count=0, _api=<tweepy.api.API object at 0x1072657d0>, author=User(follow_request_sent=False, has_extended_profile=False, profile_use_background_image=True, _json={u'follow_request_sent': False, u'has_extended_profile': False, u'profile_use_background_image': True, u'default_profile_image': False, u'id': 810978827622981632, u'profile_background_image_url_https': None, u'verified': False, u'translator_type': u'none', u'profile_text_color': u'333333', u'profile_image_url_https': u'https://pbs.twimg.com/profile_images/810983389452910596/LQo4Y3iS_normal.jpg', u'profile_sidebar_fill_color': u'DDEEF6', u'entities': {u'description': {u'urls': []}}, u'followers_count': 191, u'profile_sidebar_border_color': u'C0DEED', u'id_str': u'810978827622981632', u'profile_background_color': u'F5F8FA', u'listed_count': 17, u'is_translation_enabled': False, u'utc_offset': -28800, u'statuses_count': 148431, u'description': u'Local events in cities around the nation.', u'friends_count': 79, u'location': u'United States', u'profile_link_color': u'1DA1F2', u'profile_image_url': u'http://pbs.twimg.com/profile_images/810983389452910596/LQo4Y3iS_normal.jpg', u'following': False, u'geo_enabled': False, u'profile_background_image_url': None, u'screen_name': u'cs_localevents', u'lang': u'en', u'profile_background_tile': False, u'favourites_count': 0, u'name': u'CS Local Events', u'notifications': False, u'url': None, u'created_at': u'Mon Dec 19 22:43:14 +0000 2016', u'contributors_enabled': False, u'time_zone': u'Pacific Time (US & Canada)', u'protected': False, u'default_profile': True, u'is_translator': False}, time_zone=u'Pacific Time (US & Canada)', id=810978827622981632, description=u'Local events in cities around the nation.', _api=<tweepy.api.API object at 0x1072657d0>, verified=False, profile_text_color=u'333333', profile_image_url_https=u'https://pbs.twimg.com/profile_images/810983389452910596/LQo4Y3iS_normal.jpg', profile_sidebar_fill_color=u'DDEEF6', is_translator=False, geo_enabled=False, entities={u'description': {u'urls': []}}, followers_count=191, protected=False, id_str=u'810978827622981632', default_profile_image=False, listed_count=17, lang=u'en', utc_offset=-28800, statuses_count=148431, profile_background_color=u'F5F8FA', friends_count=79, profile_link_color=u'1DA1F2', profile_image_url=u'http://pbs.twimg.com/profile_images/810983389452910596/LQo4Y3iS_normal.jpg', notifications=False, default_profile=True, profile_background_image_url_https=None, profile_background_image_url=None, name=u'CS Local Events', is_translation_enabled=False, profile_background_tile=False, favourites_count=0, screen_name=u'cs_localevents', url=None, created_at=datetime.datetime(2016, 12, 19, 22, 43, 14), contributors_enabled=False, location=u'United States', profile_sidebar_border_color=u'C0DEED', translator_type=u'none', following=False), _json={u'contributors': None, u'truncated': False, u'text': u'Free: Distorted Divas - Mar 4 #newyorktickets https://t.co/AJQURWViYl', u'is_quote_status': False, u'in_reply_to_status_id': None, u'id': 840679899182452736, u'favorite_count': 0, u'entities': {u'symbols': [], u'user_mentions': [], u'hashtags': [{u'indices': [30, 45], u'text': u'newyorktickets'}], u'urls': [{u'url': u'https://t.co/AJQURWViYl', u'indices': [46, 69], u'expanded_url': u'http://tinyurl.com/zaa89lr', u'display_url': u'tinyurl.com/zaa89lr'}]}, u'retweeted': False, u'coordinates': None, u'source': u'<a href=\"http://community-scene.com\" rel=\"nofollow\">CS Local Events</a>', u'in_reply_to_screen_name': None, u'in_reply_to_user_id': None, u'retweet_count': 0, u'id_str': u'840679899182452736', u'favorited': False, u'user': {u'follow_request_sent': False, u'has_extended_profile': False, u'profile_use_background_image': True, u'default_profile_image': False, u'id': 810978827622981632, u'profile_background_image_url_https': None, u'verified': False, u'translator_type': u'none', u'profile_text_color': u'333333', u'profile_image_url_https': u'https://pbs.twimg.com/profile_images/810983389452910596/LQo4Y3iS_normal.jpg', u'profile_sidebar_fill_color': u'DDEEF6', u'entities': {u'description': {u'urls': []}}, u'followers_count': 191, u'profile_sidebar_border_color': u'C0DEED', u'id_str': u'810978827622981632', u'profile_background_color': u'F5F8FA', u'listed_count': 17, u'is_translation_enabled': False, u'utc_offset': -28800, u'statuses_count': 148431, u'description': u'Local events in cities around the nation.', u'friends_count': 79, u'location': u'United States', u'profile_link_color': u'1DA1F2', u'profile_image_url': u'http://pbs.twimg.com/profile_images/810983389452910596/LQo4Y3iS_normal.jpg', u'following': False, u'geo_enabled': False, u'profile_background_image_url': None, u'screen_name': u'cs_localevents', u'lang': u'en', u'profile_background_tile': False, u'favourites_count': 0, u'name': u'CS Local Events', u'notifications': False, u'url': None, u'created_at': u'Mon Dec 19 22:43:14 +0000 2016', u'contributors_enabled': False, u'time_zone': u'Pacific Time (US & Canada)', u'protected': False, u'default_profile': True, u'is_translator': False}, u'geo': None, u'in_reply_to_user_id_str': None, u'possibly_sensitive': False, u'lang': u'es', u'created_at': u'Sat Mar 11 21:44:41 +0000 2017', u'in_reply_to_status_id_str': None, u'place': None, u'metadata': {u'iso_language_code': u'es', u'result_type': u'recent'}}, coordinates=None, entities={u'symbols': [], u'user_mentions': [], u'hashtags': [{u'indices': [30, 45], u'text': u'newyorktickets'}], u'urls': [{u'url': u'https://t.co/AJQURWViYl', u'indices': [46, 69], u'expanded_url': u'http://tinyurl.com/zaa89lr', u'display_url': u'tinyurl.com/zaa89lr'}]}, in_reply_to_screen_name=None, id_str=u'840679899182452736', retweet_count=0, in_reply_to_user_id=None, favorited=False, source_url=u'http://community-scene.com', user=User(follow_request_sent=False, has_extended_profile=False, profile_use_background_image=True, _json={u'follow_request_sent': False, u'has_extended_profile': False, u'profile_use_background_image': True, u'default_profile_image': False, u'id': 810978827622981632, u'profile_background_image_url_https': None, u'verified': False, u'translator_type': u'none', u'profile_text_color': u'333333', u'profile_image_url_https': u'https://pbs.twimg.com/profile_images/810983389452910596/LQo4Y3iS_normal.jpg', u'profile_sidebar_fill_color': u'DDEEF6', u'entities': {u'description': {u'urls': []}}, u'followers_count': 191, u'profile_sidebar_border_color': u'C0DEED', u'id_str': u'810978827622981632', u'profile_background_color': u'F5F8FA', u'listed_count': 17, u'is_translation_enabled': False, u'utc_offset': -28800, u'statuses_count': 148431, u'description': u'Local events in cities around the nation.', u'friends_count': 79, u'location': u'United States', u'profile_link_color': u'1DA1F2', u'profile_image_url': u'http://pbs.twimg.com/profile_images/810983389452910596/LQo4Y3iS_normal.jpg', u'following': False, u'geo_enabled': False, u'profile_background_image_url': None, u'screen_name': u'cs_localevents', u'lang': u'en', u'profile_background_tile': False, u'favourites_count': 0, u'name': u'CS Local Events', u'notifications': False, u'url': None, u'created_at': u'Mon Dec 19 22:43:14 +0000 2016', u'contributors_enabled': False, u'time_zone': u'Pacific Time (US & Canada)', u'protected': False, u'default_profile': True, u'is_translator': False}, time_zone=u'Pacific Time (US & Canada)', id=810978827622981632, description=u'Local events in cities around the nation.', _api=<tweepy.api.API object at 0x1072657d0>, verified=False, profile_text_color=u'333333', profile_image_url_https=u'https://pbs.twimg.com/profile_images/810983389452910596/LQo4Y3iS_normal.jpg', profile_sidebar_fill_color=u'DDEEF6', is_translator=False, geo_enabled=False, entities={u'description': {u'urls': []}}, followers_count=191, protected=False, id_str=u'810978827622981632', default_profile_image=False, listed_count=17, lang=u'en', utc_offset=-28800, statuses_count=148431, profile_background_color=u'F5F8FA', friends_count=79, profile_link_color=u'1DA1F2', profile_image_url=u'http://pbs.twimg.com/profile_images/810983389452910596/LQo4Y3iS_normal.jpg', notifications=False, default_profile=True, profile_background_image_url_https=None, profile_background_image_url=None, name=u'CS Local Events', is_translation_enabled=False, profile_background_tile=False, favourites_count=0, screen_name=u'cs_localevents', url=None, created_at=datetime.datetime(2016, 12, 19, 22, 43, 14), contributors_enabled=False, location=u'United States', profile_sidebar_border_color=u'C0DEED', translator_type=u'none', following=False), geo=None, in_reply_to_user_id_str=None, possibly_sensitive=False, lang=u'es', created_at=datetime.datetime(2017, 3, 11, 21, 44, 41), in_reply_to_status_id_str=None, place=None, source=u'CS Local Events', retweeted=False, metadata={u'iso_language_code': u'es', u'result_type': u'recent'})\n"
     ]
    }
   ],
   "source": [
    "#Search for tweets.\n",
    "#twt_list = []\n",
    "keyword = \"new york\"\n",
    "twt_list = api.search(q = keyword,count = 30)\n",
    "print(twt_list[8])"
   ]
  },
  {
   "cell_type": "code",
   "execution_count": 31,
   "metadata": {
    "collapsed": false
   },
   "outputs": [
    {
     "name": "stdout",
     "output_type": "stream",
     "text": [
      "Tarasenko stars in Blues' 4-3 victory over Islanders https://t.co/f46Yo7z6M3\n",
      "shilla Fargo\n",
      "https://t.co/1SiLrrezh4\n"
     ]
    }
   ],
   "source": [
    "print(twt_list[8].text)\n",
    "print(twt_list[8]._json[\"user\"][\"name\"])\n",
    "print(twt_list[3]._json[\"entities\"][\"urls\"][0][\"url\"])"
   ]
  },
  {
   "cell_type": "code",
   "execution_count": 54,
   "metadata": {
    "collapsed": true
   },
   "outputs": [],
   "source": [
    "def get_tweets(keyword):\n",
    "    twt_list = []\n",
    "    twt_list = api.search(q = keyword, count = 20)\n",
    "    #print(twt_list[0].text)\n",
    "    return twt_list\n"
   ]
  },
  {
   "cell_type": "code",
   "execution_count": 59,
   "metadata": {
    "collapsed": false
   },
   "outputs": [
    {
     "name": "stderr",
     "output_type": "stream",
     "text": [
      " * Running on http://localhost:9000/ (Press CTRL+C to quit)\n",
      "127.0.0.1 - - [12/Mar/2017 05:23:47] \"GET /twts/bruno+mars/ HTTP/1.1\" 200 -\n",
      "127.0.0.1 - - [12/Mar/2017 05:24:02] \"GET /twts/beyonce/ HTTP/1.1\" 200 -\n"
     ]
    }
   ],
   "source": [
    "from werkzeug.wrappers import Request, Response\n",
    "from flask import Flask\n",
    "from flask import render_template\n",
    "\n",
    "app = Flask(__name__)\n",
    "\n",
    "@app.route(\"/\")\n",
    "def tweet():\n",
    "    return tweetslist[0]\n",
    "\n",
    "@app.route(\"/users/\")\n",
    "def users():\n",
    "    return render_template('users.html', user_list=user_list)\n",
    "\n",
    "\n",
    "@app.route(\"/twts/\")\n",
    "@app.route(\"/twts/<name>/\")\n",
    "def twts(name = None):\n",
    "    twt_list = get_tweets(name)\n",
    "    return render_template('twt.html', twt_list=twt_list)\n",
    "\n",
    "\n",
    "@app.route('/hello/')\n",
    "@app.route('/hello/<name>/')\n",
    "def hello(name=None):\n",
    "    return render_template('hello.html', name=name)\n",
    "\n",
    "\n",
    "if __name__ == '__main__':\n",
    "    from werkzeug.serving import run_simple\n",
    "    run_simple('localhost', 9000, app)"
   ]
  },
  {
   "cell_type": "code",
   "execution_count": null,
   "metadata": {
    "collapsed": false
   },
   "outputs": [],
   "source": []
  },
  {
   "cell_type": "code",
   "execution_count": null,
   "metadata": {
    "collapsed": true
   },
   "outputs": [],
   "source": []
  },
  {
   "cell_type": "code",
   "execution_count": 93,
   "metadata": {
    "collapsed": false
   },
   "outputs": [
    {
     "name": "stderr",
     "output_type": "stream",
     "text": [
      " * Running on http://127.0.0.1:5000/ (Press CTRL+C to quit)\n",
      " * Restarting with stat\n"
     ]
    },
    {
     "ename": "SystemExit",
     "evalue": "1",
     "output_type": "error",
     "traceback": [
      "An exception has occurred, use %tb to see the full traceback.\n",
      "\u001b[0;31mSystemExit\u001b[0m\u001b[0;31m:\u001b[0m 1\n"
     ]
    },
    {
     "name": "stderr",
     "output_type": "stream",
     "text": [
      "/Users/jiangcw/anaconda/lib/python2.7/site-packages/IPython/core/interactiveshell.py:2889: UserWarning: To exit: use 'exit', 'quit', or Ctrl-D.\n",
      "  warn(\"To exit: use 'exit', 'quit', or Ctrl-D.\", stacklevel=1)\n"
     ]
    }
   ],
   "source": [
    "from flask import Flask, abort, request, render_template\n",
    "from uuid import uuid4\n",
    "import requests\n",
    "import requests.auth\n",
    "import urllib\n",
    "import string\n",
    "import random\n",
    "\n",
    "SPOTIFY_APP_ID = 'b9d97275936943d6965ffbdd5e402238'\n",
    "SPOTIFY_REDIRECT_URI = 'http://localhost:5000/callback'\n",
    "SPOTIFY_CLIENT_SECRET = '8ac92255fb684073b02f61e38f96cc34'\n",
    "RANDOM_STATE = ''\n",
    "\n",
    "app = Flask(__name__)\n",
    "\n",
    "# Prompt login\n",
    "@app.route('/')\n",
    "def homepage():\n",
    "    text = '<a href=\"%s\">Authenticate with spotify</a>'\n",
    "    return render_template(\"index.html\", requestURL=make_authorization_url())\n",
    "\n",
    "# Create authorzation url\n",
    "def make_authorization_url():\n",
    "    global RANDOM_STATE\n",
    "    RANDOM_STATE = generateRandomString(16)\n",
    "    params = {\"client_id\": SPOTIFY_APP_ID,\n",
    "              \"response_type\": \"code\",\n",
    "              \"redirect_uri\": SPOTIFY_REDIRECT_URI,\n",
    "              \"state\": RANDOM_STATE,\n",
    "              \"scope\": \"user-top-read\"\n",
    "              }\n",
    "    url = \"https://accounts.spotify.com/authorize?\" + urllib.parse.urlencode(params)\n",
    "    return url\n",
    "\n",
    "# Callback page\n",
    "@app.route('/callback')\n",
    "def callback():\n",
    "    code = request.args.get('code')\n",
    "    state = request.args.get('state', '')\n",
    "    # Check state, get access token if valid\n",
    "    if state == RANDOM_STATE:\n",
    "        artists = []\n",
    "        token_json = get_token(code)\n",
    "        user_info = get_userInfo(token_json['access_token'])\n",
    "        artist_infoa = get_topArtist(token_json['access_token'])\n",
    "        artist_info = artist_infoa['items']\n",
    "        url_list = []\n",
    "        for item in artist_info:\n",
    "            print (item['name'])\n",
    "            url_list.append(urllib.parse.quote_plus(item['name']))\n",
    "\n",
    "        profile_img = user_info['images']\n",
    "        return render_template(\"profile.html\",user_json=user_info, profile_img=profile_img, artist_json=artist_info, atrist_url=url_list)\n",
    "    # invalid state, abort\n",
    "    else:\n",
    "        abort(403)\n",
    "        \n",
    "@app.route(\"/twts/\")\n",
    "@app.route(\"/twts/<name>/\")\n",
    "def twts(name = None):\n",
    "    twt_list = get_tweets(name)\n",
    "    return render_template('twt.html', twt_list=twt_list)\n",
    "\n",
    "# Use code to obtain access token, refresh token\n",
    "def get_token(code):\n",
    "    client_auth = requests.auth.HTTPBasicAuth(SPOTIFY_APP_ID, SPOTIFY_CLIENT_SECRET)\n",
    "    headers = {'Authorization': 'Basic '}\n",
    "    post_data = {\"grant_type\": \"authorization_code\",\n",
    "                 \"code\": code,\n",
    "                 \"redirect_uri\": SPOTIFY_REDIRECT_URI}\n",
    "    response = requests.post(\"https://accounts.spotify.com/api/token\",\n",
    "                             auth=client_auth,\n",
    "                             headers=headers,\n",
    "                             data=post_data)\n",
    "    token_json = response.json()\n",
    "    return token_json\n",
    "\n",
    "# Use access token to get user info\n",
    "def get_userInfo(access_token):\n",
    "    headers = {'Authorization': 'Bearer ' + access_token}\n",
    "    response = requests.get(\"https://api.spotify.com/v1/me\", headers=headers)\n",
    "    me_json = response.json()\n",
    "    return me_json\n",
    "\n",
    "def get_topArtist(access_token):\n",
    "    headers = {'Authorization': 'Bearer ' + access_token}\n",
    "    response = requests.get(\"https://api.spotify.com/v1/me/top/artists?limit=50&offset=0\", headers=headers)\n",
    "    artist_json = response.json()\n",
    "    return artist_json\n",
    "\n",
    "def generateRandomString(len):\n",
    "    return ''.join(random.SystemRandom().choice(string.ascii_uppercase + string.digits) for _ in range(len))\n",
    "\n",
    "def get_tweets(keyword):\n",
    "    twt_list = []\n",
    "    twt_list = api.search(q = keyword, count = 20)\n",
    "    return twt_list\n",
    "\n",
    "if __name__ == \"__main__\":\n",
    "    app.run(debug=True)\n"
   ]
  },
  {
   "cell_type": "code",
   "execution_count": null,
   "metadata": {
    "collapsed": true
   },
   "outputs": [],
   "source": []
  }
 ],
 "metadata": {
  "anaconda-cloud": {},
  "kernelspec": {
   "display_name": "Python 2",
   "language": "python",
   "name": "python2"
  },
  "language_info": {
   "codemirror_mode": {
    "name": "ipython",
    "version": 2
   },
   "file_extension": ".py",
   "mimetype": "text/x-python",
   "name": "python",
   "nbconvert_exporter": "python",
   "pygments_lexer": "ipython2",
   "version": "2.7.12"
  }
 },
 "nbformat": 4,
 "nbformat_minor": 1
}
