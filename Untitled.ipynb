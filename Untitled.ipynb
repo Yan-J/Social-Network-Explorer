{
 "cells": [
  {
   "cell_type": "code",
   "execution_count": null,
   "metadata": {
    "collapsed": true
   },
   "outputs": [],
   "source": [
    "#----------------------Multiple python instance on Mac. Specify path first----------------------#\n",
    "%%bash\n",
    "export PATH=\"/Users/jiangcw/anaconda/bin:$PATH\"\n",
    "pip install tweepy"
   ]
  },
  {
   "cell_type": "code",
   "execution_count": 46,
   "metadata": {
    "collapsed": false
   },
   "outputs": [],
   "source": [
    "#----------------------Get info from Twitter through Tweepy----------------------#\n",
    "import tweepy\n",
    "\n",
    "#Create variables for each key, secret, token.\n",
    "consumer_key = 'hrABYWoeNcdDgyMYUPqlcITNi'\n",
    "consumer_secret = '8KkiJEgeJySQ8ZFDA2ywHPx2cagifHqiXS7jxcsCWDtLPGV59K'\n",
    "access_token = '838796084038230016-L8xC5JUjkDxUvfNJR4iZACE5QIKlXMG'\n",
    "access_token_secret = 'jhQC3kWgc8SbkmlMnJ5965UDddeV61EbGbqcUnfzI3DuQ'\n",
    "\n",
    "#Set up OAuth and integrate with API.\n",
    "auth = tweepy.OAuthHandler(consumer_key, consumer_secret)\n",
    "auth.set_access_token(access_token, access_token_secret)\n",
    "api = tweepy.API(auth)"
   ]
  },
  {
   "cell_type": "code",
   "execution_count": 47,
   "metadata": {
    "collapsed": false
   },
   "outputs": [
    {
     "name": "stdout",
     "output_type": "stream",
     "text": [
      "#TOdeals Here's why you should see School of Rock on Broadway: https://t.co/T9HzD4VA3K https://t.co/4eoZkmeKI3\n"
     ]
    }
   ],
   "source": [
    "#Get tweets on users home_timeline.\n",
    "public_tweets = api.home_timeline()\n",
    "\n",
    "print (public_tweets[0].text)\n",
    "tweetslist = []\n",
    "for tweet in public_tweets:\n",
    "    tweetslist.append(tweet.text)\n",
    "#print(tweetslist)"
   ]
  },
  {
   "cell_type": "code",
   "execution_count": 14,
   "metadata": {
    "collapsed": false
   },
   "outputs": [
    {
     "name": "stdout",
     "output_type": "stream",
     "text": [
      "Sharing to Learn 234 South Africa - New York\n",
      "ARTs East New York 544 851 Hegeman ave\n",
      "ANC New York 1436 New York City\n",
      "Alpha One Labs 5656 Brooklyn\n",
      "WNY Book Arts Center 1432 Buffalo New York\n",
      "roundtownsound 357 Philly\n",
      "Puppetry Arts 855 Park Slope, Brooklyn\n",
      "A.G.A.P.W. 764 NYC\n",
      "AnthonyMark 281 New York, New York\n",
      "All Team Manhattan 846 Harlem.USA \n",
      "Get Veterans Jobs 513 New York State\n",
      "\n",
      "\n",
      "Sharing to Learn 234\n",
      "ARTs East New York 544\n",
      "ANC New York 1436\n",
      "Alpha One Labs 5656\n",
      "WNY Book Arts Center 1432\n",
      "roundtownsound 357\n",
      "Puppetry Arts 855\n",
      "A.G.A.P.W. 764\n",
      "AnthonyMark 281\n",
      "All Team Manhattan 846\n",
      "Get Veterans Jobs 513\n"
     ]
    }
   ],
   "source": [
    "#Search for users.\n",
    "use_list = []\n",
    "for i in range(5):\n",
    "    user_list.append(api.search_users(\"new york + non profit\",20,i))\n",
    "\n",
    "\n",
    "\n",
    "user_list = api.search_users(\"new york + non profit\",20,1)\n",
    "for user in user_list:\n",
    "    print (user.name + \" \" + str(user.followers_count)+ \" \" + user.location)#Alias\n",
    "print (\"\\n\")\n",
    "user_list = api.search_users(\"new york + non profit\",20,2)\n",
    "for user in user_list:\n",
    "    print (user.name + \" \" + str(user.followers_count))#Alias"
   ]
  },
  {
   "cell_type": "code",
   "execution_count": 59,
   "metadata": {
    "collapsed": false
   },
   "outputs": [
    {
     "name": "stdout",
     "output_type": "stream",
     "text": [
      "10\n"
     ]
    }
   ],
   "source": [
    "#Search for users.\n",
    "user_list = []\n",
    "for i in range(10):\n",
    "    user_list.append(api.search_users(\"new york + non profit\",20,i))\n",
    "print(len(user_list))"
   ]
  },
  {
   "cell_type": "code",
   "execution_count": 60,
   "metadata": {
    "collapsed": false
   },
   "outputs": [
    {
     "name": "stderr",
     "output_type": "stream",
     "text": [
      " * Running on http://localhost:9000/ (Press CTRL+C to quit)\n",
      "127.0.0.1 - - [11/Mar/2017 12:43:20] \"GET /users/ HTTP/1.1\" 200 -\n"
     ]
    }
   ],
   "source": [
    "from werkzeug.wrappers import Request, Response\n",
    "from flask import Flask\n",
    "from flask import render_template\n",
    "\n",
    "app = Flask(__name__)\n",
    "\n",
    "@app.route(\"/\")\n",
    "def tweet():\n",
    "    return tweetslist[0]\n",
    "\n",
    "@app.route(\"/users/\")\n",
    "def users():\n",
    "    return render_template('users.html', user_list=user_list)\n",
    "\n",
    "@app.route('/hello/')\n",
    "@app.route('/hello/<name>/')\n",
    "def hello(name=None):\n",
    "    return render_template('hello.html', name=name)\n",
    "\n",
    "\n",
    "if __name__ == '__main__':\n",
    "    from werkzeug.serving import run_simple\n",
    "    run_simple('localhost', 9000, app)"
   ]
  },
  {
   "cell_type": "code",
   "execution_count": null,
   "metadata": {
    "collapsed": false
   },
   "outputs": [],
   "source": []
  },
  {
   "cell_type": "code",
   "execution_count": null,
   "metadata": {
    "collapsed": true
   },
   "outputs": [],
   "source": []
  }
 ],
 "metadata": {
  "anaconda-cloud": {},
  "kernelspec": {
   "display_name": "Python 2",
   "language": "python",
   "name": "python2"
  },
  "language_info": {
   "codemirror_mode": {
    "name": "ipython",
    "version": 2
   },
   "file_extension": ".py",
   "mimetype": "text/x-python",
   "name": "python",
   "nbconvert_exporter": "python",
   "pygments_lexer": "ipython2",
   "version": "2.7.12"
  }
 },
 "nbformat": 4,
 "nbformat_minor": 1
}
